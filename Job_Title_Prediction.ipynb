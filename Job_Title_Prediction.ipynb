{
  "nbformat": 4,
  "nbformat_minor": 0,
  "metadata": {
    "colab": {
      "name": "Job_Title_Prediction.ipynb",
      "provenance": [],
      "collapsed_sections": [],
      "authorship_tag": "ABX9TyOQxhOkz116f7GYZ1/H7GS9",
      "include_colab_link": true
    },
    "kernelspec": {
      "name": "python3",
      "display_name": "Python 3"
    },
    "language_info": {
      "name": "python"
    },
    "accelerator": "GPU"
  },
  "cells": [
    {
      "cell_type": "markdown",
      "metadata": {
        "id": "view-in-github",
        "colab_type": "text"
      },
      "source": [
        "<a href=\"https://colab.research.google.com/github/rajeshkpandey/AWESOME-FER/blob/master/Job_Title_Prediction.ipynb\" target=\"_parent\"><img src=\"https://colab.research.google.com/assets/colab-badge.svg\" alt=\"Open In Colab\"/></a>"
      ]
    },
    {
      "cell_type": "code",
      "source": [
        "import os\n",
        "print(os.listdir(\"./\"))\n",
        "\n",
        "import pandas as pd\n",
        "import numpy as np\n",
        "from scipy.stats import randint\n",
        "import seaborn as sns # used for plot interactive graph. \n",
        "import matplotlib.pyplot as plt\n",
        "import seaborn as sns\n",
        "from io import StringIO\n",
        "import string\n",
        "import nltk\n",
        "from nltk.corpus import stopwords\n",
        "from nltk.stem.porter import PorterStemmer\n",
        "from nltk.stem import WordNetLemmatizer\n",
        "import re \n",
        "from sklearn.feature_extraction.text import TfidfVectorizer\n",
        "from sklearn.feature_selection import chi2\n",
        "from IPython.display import display\n",
        "from sklearn.model_selection import train_test_split\n",
        "from sklearn.feature_extraction.text import TfidfTransformer\n",
        "from sklearn.naive_bayes import MultinomialNB\n",
        "from sklearn.linear_model import LogisticRegression\n",
        "from sklearn.ensemble import RandomForestClassifier\n",
        "from sklearn.svm import LinearSVC\n",
        "from sklearn.model_selection import cross_val_score\n",
        "from sklearn.metrics import confusion_matrix\n",
        "from sklearn import metrics"
      ],
      "metadata": {
        "colab": {
          "base_uri": "https://localhost:8080/"
        },
        "id": "KnESDf11k2ba",
        "outputId": "66552ca9-287d-4e25-f2bb-e911938641d4"
      },
      "execution_count": 1,
      "outputs": [
        {
          "output_type": "stream",
          "name": "stdout",
          "text": [
            "['.config', 'test.csv', '.ipynb_checkpoints', 'sample_data']\n"
          ]
        }
      ]
    },
    {
      "cell_type": "code",
      "source": [
        "df = pd.read_csv('train.csv')\n",
        "df.head()\n",
        "test_df = pd.read_csv('test.csv')\n",
        "test_df.head()"
      ],
      "metadata": {
        "colab": {
          "base_uri": "https://localhost:8080/",
          "height": 206
        },
        "id": "k4csU4nPW68-",
        "outputId": "0dfd6455-d9eb-461a-a7b9-4702debe66e6"
      },
      "execution_count": 2,
      "outputs": [
        {
          "output_type": "execute_result",
          "data": {
            "text/html": [
              "\n",
              "  <div id=\"df-1a1d62b4-cd3b-49c0-b2db-061250022a3b\">\n",
              "    <div class=\"colab-df-container\">\n",
              "      <div>\n",
              "<style scoped>\n",
              "    .dataframe tbody tr th:only-of-type {\n",
              "        vertical-align: middle;\n",
              "    }\n",
              "\n",
              "    .dataframe tbody tr th {\n",
              "        vertical-align: top;\n",
              "    }\n",
              "\n",
              "    .dataframe thead th {\n",
              "        text-align: right;\n",
              "    }\n",
              "</style>\n",
              "<table border=\"1\" class=\"dataframe\">\n",
              "  <thead>\n",
              "    <tr style=\"text-align: right;\">\n",
              "      <th></th>\n",
              "      <th>Job ID</th>\n",
              "      <th>Job Description</th>\n",
              "      <th>Title</th>\n",
              "    </tr>\n",
              "  </thead>\n",
              "  <tbody>\n",
              "    <tr>\n",
              "      <th>0</th>\n",
              "      <td>JOB0000</td>\n",
              "      <td>TeamSoft is seeing an IT Support Specialist to...</td>\n",
              "      <td>NaN</td>\n",
              "    </tr>\n",
              "    <tr>\n",
              "      <th>1</th>\n",
              "      <td>JOB0001</td>\n",
              "      <td>The Wisconsin State Journal is seeking a flexi...</td>\n",
              "      <td>NaN</td>\n",
              "    </tr>\n",
              "    <tr>\n",
              "      <th>2</th>\n",
              "      <td>JOB0002</td>\n",
              "      <td>Report this job About the Job DePuy Synthes Co...</td>\n",
              "      <td>NaN</td>\n",
              "    </tr>\n",
              "    <tr>\n",
              "      <th>3</th>\n",
              "      <td>JOB0003</td>\n",
              "      <td>Why Join Altec? If you’re considering a career...</td>\n",
              "      <td>NaN</td>\n",
              "    </tr>\n",
              "    <tr>\n",
              "      <th>4</th>\n",
              "      <td>JOB0004</td>\n",
              "      <td>Position ID#  76162 # Positions  1 State  CT C...</td>\n",
              "      <td>NaN</td>\n",
              "    </tr>\n",
              "  </tbody>\n",
              "</table>\n",
              "</div>\n",
              "      <button class=\"colab-df-convert\" onclick=\"convertToInteractive('df-1a1d62b4-cd3b-49c0-b2db-061250022a3b')\"\n",
              "              title=\"Convert this dataframe to an interactive table.\"\n",
              "              style=\"display:none;\">\n",
              "        \n",
              "  <svg xmlns=\"http://www.w3.org/2000/svg\" height=\"24px\"viewBox=\"0 0 24 24\"\n",
              "       width=\"24px\">\n",
              "    <path d=\"M0 0h24v24H0V0z\" fill=\"none\"/>\n",
              "    <path d=\"M18.56 5.44l.94 2.06.94-2.06 2.06-.94-2.06-.94-.94-2.06-.94 2.06-2.06.94zm-11 1L8.5 8.5l.94-2.06 2.06-.94-2.06-.94L8.5 2.5l-.94 2.06-2.06.94zm10 10l.94 2.06.94-2.06 2.06-.94-2.06-.94-.94-2.06-.94 2.06-2.06.94z\"/><path d=\"M17.41 7.96l-1.37-1.37c-.4-.4-.92-.59-1.43-.59-.52 0-1.04.2-1.43.59L10.3 9.45l-7.72 7.72c-.78.78-.78 2.05 0 2.83L4 21.41c.39.39.9.59 1.41.59.51 0 1.02-.2 1.41-.59l7.78-7.78 2.81-2.81c.8-.78.8-2.07 0-2.86zM5.41 20L4 18.59l7.72-7.72 1.47 1.35L5.41 20z\"/>\n",
              "  </svg>\n",
              "      </button>\n",
              "      \n",
              "  <style>\n",
              "    .colab-df-container {\n",
              "      display:flex;\n",
              "      flex-wrap:wrap;\n",
              "      gap: 12px;\n",
              "    }\n",
              "\n",
              "    .colab-df-convert {\n",
              "      background-color: #E8F0FE;\n",
              "      border: none;\n",
              "      border-radius: 50%;\n",
              "      cursor: pointer;\n",
              "      display: none;\n",
              "      fill: #1967D2;\n",
              "      height: 32px;\n",
              "      padding: 0 0 0 0;\n",
              "      width: 32px;\n",
              "    }\n",
              "\n",
              "    .colab-df-convert:hover {\n",
              "      background-color: #E2EBFA;\n",
              "      box-shadow: 0px 1px 2px rgba(60, 64, 67, 0.3), 0px 1px 3px 1px rgba(60, 64, 67, 0.15);\n",
              "      fill: #174EA6;\n",
              "    }\n",
              "\n",
              "    [theme=dark] .colab-df-convert {\n",
              "      background-color: #3B4455;\n",
              "      fill: #D2E3FC;\n",
              "    }\n",
              "\n",
              "    [theme=dark] .colab-df-convert:hover {\n",
              "      background-color: #434B5C;\n",
              "      box-shadow: 0px 1px 3px 1px rgba(0, 0, 0, 0.15);\n",
              "      filter: drop-shadow(0px 1px 2px rgba(0, 0, 0, 0.3));\n",
              "      fill: #FFFFFF;\n",
              "    }\n",
              "  </style>\n",
              "\n",
              "      <script>\n",
              "        const buttonEl =\n",
              "          document.querySelector('#df-1a1d62b4-cd3b-49c0-b2db-061250022a3b button.colab-df-convert');\n",
              "        buttonEl.style.display =\n",
              "          google.colab.kernel.accessAllowed ? 'block' : 'none';\n",
              "\n",
              "        async function convertToInteractive(key) {\n",
              "          const element = document.querySelector('#df-1a1d62b4-cd3b-49c0-b2db-061250022a3b');\n",
              "          const dataTable =\n",
              "            await google.colab.kernel.invokeFunction('convertToInteractive',\n",
              "                                                     [key], {});\n",
              "          if (!dataTable) return;\n",
              "\n",
              "          const docLinkHtml = 'Like what you see? Visit the ' +\n",
              "            '<a target=\"_blank\" href=https://colab.research.google.com/notebooks/data_table.ipynb>data table notebook</a>'\n",
              "            + ' to learn more about interactive tables.';\n",
              "          element.innerHTML = '';\n",
              "          dataTable['output_type'] = 'display_data';\n",
              "          await google.colab.output.renderOutput(dataTable, element);\n",
              "          const docLink = document.createElement('div');\n",
              "          docLink.innerHTML = docLinkHtml;\n",
              "          element.appendChild(docLink);\n",
              "        }\n",
              "      </script>\n",
              "    </div>\n",
              "  </div>\n",
              "  "
            ],
            "text/plain": [
              "    Job ID                                    Job Description  Title\n",
              "0  JOB0000  TeamSoft is seeing an IT Support Specialist to...    NaN\n",
              "1  JOB0001  The Wisconsin State Journal is seeking a flexi...    NaN\n",
              "2  JOB0002  Report this job About the Job DePuy Synthes Co...    NaN\n",
              "3  JOB0003  Why Join Altec? If you’re considering a career...    NaN\n",
              "4  JOB0004  Position ID#  76162 # Positions  1 State  CT C...    NaN"
            ]
          },
          "metadata": {},
          "execution_count": 2
        }
      ]
    },
    {
      "cell_type": "code",
      "source": [
        "df.shape\n",
        "test_df.shape"
      ],
      "metadata": {
        "colab": {
          "base_uri": "https://localhost:8080/"
        },
        "id": "IRrQ9qvJ_-m8",
        "outputId": "e09bdbac-cab8-4e90-9107-28caaf391fdd"
      },
      "execution_count": 3,
      "outputs": [
        {
          "output_type": "execute_result",
          "data": {
            "text/plain": [
              "(2000, 3)"
            ]
          },
          "metadata": {},
          "execution_count": 3
        }
      ]
    },
    {
      "cell_type": "code",
      "source": [
        "df.tail()\n",
        "test_df.tail()"
      ],
      "metadata": {
        "id": "3bwxOlQoXa6i"
      },
      "execution_count": null,
      "outputs": []
    },
    {
      "cell_type": "code",
      "source": [
        "nltk.download('wordnet')\n",
        "nltk.download('stopwords')\n",
        "#cleaning training dataset\n",
        "for i in range(len(df)):\n",
        "  df['Job Description'][i] = df['Job Description'][i].lower()\n",
        "  df['Job Description'][i]=\"\".join(char for char in df['Job Description'][i] if char not in string.punctuation)\n",
        "  ps = PorterStemmer()\n",
        "  wml = WordNetLemmatizer()\n",
        "  df['Job Description'][i]=ps.stem(df['Job Description'][i])\n",
        "  df['Job Description'][i]=wml.lemmatize(df['Job Description'][i])\n",
        "  df['Job Description'][i]=df['Job Description'][i].split()\n",
        "  filter_words = []\n",
        "  Stopwords = set(stopwords.words('english'))\n",
        "  for word in df['Job Description'][i]:\n",
        "    if word not in Stopwords:\n",
        "         filter_words.append(word)\n",
        "  df['Job Description'][i] = filter_words \n",
        "\n",
        "#cleaning testing set\n",
        "for i in range(len(test_df)):\n",
        "  test_df['Job Description'][i] = test_df['Job Description'][i].lower()\n",
        "  test_df['Job Description'][i]=\"\".join(char for char in test_df['Job Description'][i] if char not in string.punctuation)\n",
        "  ps = PorterStemmer()\n",
        "  wml = WordNetLemmatizer()\n",
        "  test_df['Job Description'][i]=ps.stem(test_df['Job Description'][i])\n",
        "  test_df['Job Description'][i]=wml.lemmatize(test_df['Job Description'][i])\n",
        "  test_df['Job Description'][i]=test_df['Job Description'][i].split()\n",
        "  filter_words = []\n",
        "  Stopwords = set(stopwords.words('english'))\n",
        "  for word in test_df['Job Description'][i]:\n",
        "    if word not in Stopwords:\n",
        "         filter_words.append(word)\n",
        "  test_df['Job Description'][i] = filter_words "
      ],
      "metadata": {
        "colab": {
          "base_uri": "https://localhost:8080/"
        },
        "id": "WxQP_CWRAJOE",
        "outputId": "f7092d59-aebc-431a-85f1-de2ae69040d3"
      },
      "execution_count": 5,
      "outputs": [
        {
          "output_type": "stream",
          "name": "stdout",
          "text": [
            "[nltk_data] Downloading package wordnet to /root/nltk_data...\n",
            "[nltk_data]   Package wordnet is already up-to-date!\n",
            "[nltk_data] Downloading package stopwords to /root/nltk_data...\n",
            "[nltk_data]   Unzipping corpora/stopwords.zip.\n"
          ]
        },
        {
          "output_type": "stream",
          "name": "stderr",
          "text": [
            "/usr/local/lib/python3.7/dist-packages/ipykernel_launcher.py:4: SettingWithCopyWarning: \n",
            "A value is trying to be set on a copy of a slice from a DataFrame\n",
            "\n",
            "See the caveats in the documentation: https://pandas.pydata.org/pandas-docs/stable/user_guide/indexing.html#returning-a-view-versus-a-copy\n",
            "  after removing the cwd from sys.path.\n",
            "/usr/local/lib/python3.7/dist-packages/ipykernel_launcher.py:5: SettingWithCopyWarning: \n",
            "A value is trying to be set on a copy of a slice from a DataFrame\n",
            "\n",
            "See the caveats in the documentation: https://pandas.pydata.org/pandas-docs/stable/user_guide/indexing.html#returning-a-view-versus-a-copy\n",
            "  \"\"\"\n",
            "/usr/local/lib/python3.7/dist-packages/ipykernel_launcher.py:8: SettingWithCopyWarning: \n",
            "A value is trying to be set on a copy of a slice from a DataFrame\n",
            "\n",
            "See the caveats in the documentation: https://pandas.pydata.org/pandas-docs/stable/user_guide/indexing.html#returning-a-view-versus-a-copy\n",
            "  \n",
            "/usr/local/lib/python3.7/dist-packages/ipykernel_launcher.py:9: SettingWithCopyWarning: \n",
            "A value is trying to be set on a copy of a slice from a DataFrame\n",
            "\n",
            "See the caveats in the documentation: https://pandas.pydata.org/pandas-docs/stable/user_guide/indexing.html#returning-a-view-versus-a-copy\n",
            "  if __name__ == '__main__':\n",
            "/usr/local/lib/python3.7/dist-packages/ipykernel_launcher.py:10: SettingWithCopyWarning: \n",
            "A value is trying to be set on a copy of a slice from a DataFrame\n",
            "\n",
            "See the caveats in the documentation: https://pandas.pydata.org/pandas-docs/stable/user_guide/indexing.html#returning-a-view-versus-a-copy\n",
            "  # Remove the CWD from sys.path while we load stuff.\n",
            "/usr/local/lib/python3.7/dist-packages/ipykernel_launcher.py:16: SettingWithCopyWarning: \n",
            "A value is trying to be set on a copy of a slice from a DataFrame\n",
            "\n",
            "See the caveats in the documentation: https://pandas.pydata.org/pandas-docs/stable/user_guide/indexing.html#returning-a-view-versus-a-copy\n",
            "  app.launch_new_instance()\n"
          ]
        }
      ]
    },
    {
      "cell_type": "code",
      "source": [
        "df['Job Description'][0]"
      ],
      "metadata": {
        "colab": {
          "base_uri": "https://localhost:8080/"
        },
        "id": "YefcSicdBrmq",
        "outputId": "91478b00-a462-4344-aef6-20369d0d4c21"
      },
      "execution_count": 6,
      "outputs": [
        {
          "output_type": "execute_result",
          "data": {
            "text/plain": [
              "['teamsoft',\n",
              " 'seeing',\n",
              " 'support',\n",
              " 'specialist',\n",
              " 'join',\n",
              " 'client',\n",
              " 'madison',\n",
              " 'wi',\n",
              " 'ideal',\n",
              " 'candidate',\n",
              " 'must',\n",
              " 'least',\n",
              " '6',\n",
              " 'years',\n",
              " 'experience',\n",
              " 'field',\n",
              " 'need',\n",
              " 'familiar',\n",
              " 'variety',\n",
              " 'fields',\n",
              " 'concepts',\n",
              " 'practices',\n",
              " 'procedures',\n",
              " 'position',\n",
              " 'relies',\n",
              " 'extensive',\n",
              " 'experience',\n",
              " 'judgment',\n",
              " 'plan',\n",
              " 'accomplish',\n",
              " 'goals',\n",
              " 'required',\n",
              " 'skills•',\n",
              " 'call',\n",
              " 'tracking',\n",
              " 'software•',\n",
              " 'phone',\n",
              " 'based',\n",
              " 'technical',\n",
              " 'support•',\n",
              " 'problem',\n",
              " 'documentation',\n",
              " 'communication•',\n",
              " 'remote',\n",
              " 'desktop',\n",
              " 'management',\n",
              " 'tools•',\n",
              " 'respond',\n",
              " 'customer',\n",
              " 'requests•',\n",
              " 'general',\n",
              " 'understanding',\n",
              " 'landesk•',\n",
              " 'microsoft',\n",
              " 'office',\n",
              " '2007',\n",
              " 'suitefind',\n",
              " 'teamsoft',\n",
              " 'madison',\n",
              " 'areas',\n",
              " 'technology',\n",
              " 'leader',\n",
              " '200',\n",
              " 'consultants',\n",
              " 'owned',\n",
              " 'operated',\n",
              " 'managed',\n",
              " 'consultants',\n",
              " 'teamsoft',\n",
              " 'clear',\n",
              " 'choice',\n",
              " 'career',\n",
              " 'join',\n",
              " 'teamsoft',\n",
              " 'family',\n",
              " 'todaydid',\n",
              " 'know•',\n",
              " 'teamsoft',\n",
              " 'offers',\n",
              " 'salaried',\n",
              " 'options',\n",
              " 'many',\n",
              " 'positions',\n",
              " 'include',\n",
              " '5',\n",
              " 'weeks',\n",
              " 'pto',\n",
              " 'great',\n",
              " 'benefits•',\n",
              " 'teamsoft',\n",
              " 'business',\n",
              " 'since',\n",
              " '1996•',\n",
              " 'teamsofts',\n",
              " 'owners',\n",
              " 'local',\n",
              " 'professionals',\n",
              " 'possess',\n",
              " 'wealth',\n",
              " 'experience',\n",
              " 'application',\n",
              " 'development',\n",
              " 'business',\n",
              " 'analysis',\n",
              " 'project',\n",
              " 'management•',\n",
              " 'teamsofts',\n",
              " 'recruiters',\n",
              " 'knowledgeable',\n",
              " 'friendly',\n",
              " 'ready',\n",
              " 'help',\n",
              " 'make',\n",
              " 'next',\n",
              " 'great',\n",
              " 'career',\n",
              " 'move•',\n",
              " 'teamsoft',\n",
              " 'offers',\n",
              " 'full',\n",
              " 'benefits',\n",
              " 'suite',\n",
              " 'w2',\n",
              " 'consultants',\n",
              " 'including',\n",
              " '401k',\n",
              " 'plan',\n",
              " '100',\n",
              " 'vested',\n",
              " '4',\n",
              " 'dollar',\n",
              " 'dollar',\n",
              " 'match•',\n",
              " 'targeted',\n",
              " 'selection',\n",
              " 'process',\n",
              " 'designed',\n",
              " 'get',\n",
              " 'know',\n",
              " 'strengths',\n",
              " 'career',\n",
              " 'interests',\n",
              " 'provide',\n",
              " 'best',\n",
              " 'chance',\n",
              " 'success',\n",
              " 'new',\n",
              " 'position•',\n",
              " 'longest',\n",
              " 'running',\n",
              " 'consultant',\n",
              " 'us',\n",
              " '16',\n",
              " 'years•',\n",
              " 'consultants',\n",
              " 'participate',\n",
              " 'charitable',\n",
              " 'giving',\n",
              " 'committee',\n",
              " 'date',\n",
              " 'teamsofts',\n",
              " 'charitable',\n",
              " 'giving',\n",
              " 'committee',\n",
              " 'donated',\n",
              " '100000teamsoft',\n",
              " 'owned',\n",
              " 'local',\n",
              " 'professionals',\n",
              " 'team',\n",
              " 'also',\n",
              " 'deep',\n",
              " 'experience',\n",
              " 'staffing',\n",
              " 'clients',\n",
              " 'understand',\n",
              " 'rely',\n",
              " 'expertise',\n",
              " 'teamsoft',\n",
              " 'madison',\n",
              " 'areas',\n",
              " 'largest',\n",
              " 'privately',\n",
              " 'owned',\n",
              " 'consulting',\n",
              " 'firm',\n",
              " '200',\n",
              " 'current',\n",
              " 'consultants',\n",
              " '50',\n",
              " 'active',\n",
              " 'clients',\n",
              " 'teamsoft',\n",
              " 'give',\n",
              " 'greatest',\n",
              " 'exposure',\n",
              " 'widest',\n",
              " 'range',\n",
              " 'careersour',\n",
              " 'owners',\n",
              " 'possess',\n",
              " 'combined',\n",
              " '60',\n",
              " 'years',\n",
              " 'consulting',\n",
              " 'experience',\n",
              " 'recruiting',\n",
              " 'account',\n",
              " 'management',\n",
              " 'staff',\n",
              " 'wellversed',\n",
              " 'client',\n",
              " 'markets',\n",
              " 'get',\n",
              " 'know',\n",
              " 'know',\n",
              " 'every',\n",
              " 'day',\n",
              " 'know',\n",
              " 'deal',\n",
              " 'jobyou',\n",
              " 'take',\n",
              " 'career',\n",
              " 'seriously',\n",
              " 'teamsoft',\n",
              " 'resume',\n",
              " 'number',\n",
              " 'goal',\n",
              " 'create',\n",
              " 'longterm',\n",
              " 'partnerships',\n",
              " 'consultants',\n",
              " 'according',\n",
              " 'feedback',\n",
              " 'many',\n",
              " 'good',\n",
              " 'click',\n",
              " 'see',\n",
              " 'consultants',\n",
              " 'say',\n",
              " 'working',\n",
              " 'teamsoftteamsoft',\n",
              " 'promote',\n",
              " 'yourselfteamsoft',\n",
              " 'equal',\n",
              " 'employment',\n",
              " 'opportunity',\n",
              " 'employer',\n",
              " 'functioning',\n",
              " 'affirmative',\n",
              " 'action',\n",
              " 'plan']"
            ]
          },
          "metadata": {},
          "execution_count": 6
        }
      ]
    },
    {
      "cell_type": "code",
      "source": [
        "# Create a new dataframe with two columns\n",
        "df1 = df[['Job Description', 'Title']].copy()\n",
        "\n",
        "# Remove missing values (NaN)\n",
        "df1 = df1[pd.notnull(df1['Job Description'])]\n",
        "\n",
        "# Renaming job description column for a simpler name\n",
        "df1.columns = ['Job_Description', 'Title'] \n",
        "\n",
        "df1.shape"
      ],
      "metadata": {
        "colab": {
          "base_uri": "https://localhost:8080/"
        },
        "id": "RrGCaB5UlpZU",
        "outputId": "1ddc3420-249f-4beb-f200-54e4e854d696"
      },
      "execution_count": 7,
      "outputs": [
        {
          "output_type": "execute_result",
          "data": {
            "text/plain": [
              "(2000, 2)"
            ]
          },
          "metadata": {},
          "execution_count": 7
        }
      ]
    },
    {
      "cell_type": "code",
      "source": [
        "df1.tail()"
      ],
      "metadata": {
        "colab": {
          "base_uri": "https://localhost:8080/",
          "height": 206
        },
        "id": "yA6mQ0UHc2fX",
        "outputId": "859dd705-4150-4db8-cb35-eaa92773ccc9"
      },
      "execution_count": 8,
      "outputs": [
        {
          "output_type": "execute_result",
          "data": {
            "text/html": [
              "\n",
              "  <div id=\"df-d27a9bd4-12b6-43c4-98d0-f632f82f8cb5\">\n",
              "    <div class=\"colab-df-container\">\n",
              "      <div>\n",
              "<style scoped>\n",
              "    .dataframe tbody tr th:only-of-type {\n",
              "        vertical-align: middle;\n",
              "    }\n",
              "\n",
              "    .dataframe tbody tr th {\n",
              "        vertical-align: top;\n",
              "    }\n",
              "\n",
              "    .dataframe thead th {\n",
              "        text-align: right;\n",
              "    }\n",
              "</style>\n",
              "<table border=\"1\" class=\"dataframe\">\n",
              "  <thead>\n",
              "    <tr style=\"text-align: right;\">\n",
              "      <th></th>\n",
              "      <th>Job_Description</th>\n",
              "      <th>Title</th>\n",
              "    </tr>\n",
              "  </thead>\n",
              "  <tbody>\n",
              "    <tr>\n",
              "      <th>1995</th>\n",
              "      <td>[general, descriptionresponsible, ensuring, pr...</td>\n",
              "      <td>NaN</td>\n",
              "    </tr>\n",
              "    <tr>\n",
              "      <th>1996</th>\n",
              "      <td>[job, id, 94448nonexempt, oldcastle, precast, ...</td>\n",
              "      <td>NaN</td>\n",
              "    </tr>\n",
              "    <tr>\n",
              "      <th>1997</th>\n",
              "      <td>[general, descriptionis, responsible, phases, ...</td>\n",
              "      <td>NaN</td>\n",
              "    </tr>\n",
              "    <tr>\n",
              "      <th>1998</th>\n",
              "      <td>[report, job, job, skilled, nursing, facility,...</td>\n",
              "      <td>NaN</td>\n",
              "    </tr>\n",
              "    <tr>\n",
              "      <th>1999</th>\n",
              "      <td>[job, id, 99428, georgia, masonry, supply, div...</td>\n",
              "      <td>NaN</td>\n",
              "    </tr>\n",
              "  </tbody>\n",
              "</table>\n",
              "</div>\n",
              "      <button class=\"colab-df-convert\" onclick=\"convertToInteractive('df-d27a9bd4-12b6-43c4-98d0-f632f82f8cb5')\"\n",
              "              title=\"Convert this dataframe to an interactive table.\"\n",
              "              style=\"display:none;\">\n",
              "        \n",
              "  <svg xmlns=\"http://www.w3.org/2000/svg\" height=\"24px\"viewBox=\"0 0 24 24\"\n",
              "       width=\"24px\">\n",
              "    <path d=\"M0 0h24v24H0V0z\" fill=\"none\"/>\n",
              "    <path d=\"M18.56 5.44l.94 2.06.94-2.06 2.06-.94-2.06-.94-.94-2.06-.94 2.06-2.06.94zm-11 1L8.5 8.5l.94-2.06 2.06-.94-2.06-.94L8.5 2.5l-.94 2.06-2.06.94zm10 10l.94 2.06.94-2.06 2.06-.94-2.06-.94-.94-2.06-.94 2.06-2.06.94z\"/><path d=\"M17.41 7.96l-1.37-1.37c-.4-.4-.92-.59-1.43-.59-.52 0-1.04.2-1.43.59L10.3 9.45l-7.72 7.72c-.78.78-.78 2.05 0 2.83L4 21.41c.39.39.9.59 1.41.59.51 0 1.02-.2 1.41-.59l7.78-7.78 2.81-2.81c.8-.78.8-2.07 0-2.86zM5.41 20L4 18.59l7.72-7.72 1.47 1.35L5.41 20z\"/>\n",
              "  </svg>\n",
              "      </button>\n",
              "      \n",
              "  <style>\n",
              "    .colab-df-container {\n",
              "      display:flex;\n",
              "      flex-wrap:wrap;\n",
              "      gap: 12px;\n",
              "    }\n",
              "\n",
              "    .colab-df-convert {\n",
              "      background-color: #E8F0FE;\n",
              "      border: none;\n",
              "      border-radius: 50%;\n",
              "      cursor: pointer;\n",
              "      display: none;\n",
              "      fill: #1967D2;\n",
              "      height: 32px;\n",
              "      padding: 0 0 0 0;\n",
              "      width: 32px;\n",
              "    }\n",
              "\n",
              "    .colab-df-convert:hover {\n",
              "      background-color: #E2EBFA;\n",
              "      box-shadow: 0px 1px 2px rgba(60, 64, 67, 0.3), 0px 1px 3px 1px rgba(60, 64, 67, 0.15);\n",
              "      fill: #174EA6;\n",
              "    }\n",
              "\n",
              "    [theme=dark] .colab-df-convert {\n",
              "      background-color: #3B4455;\n",
              "      fill: #D2E3FC;\n",
              "    }\n",
              "\n",
              "    [theme=dark] .colab-df-convert:hover {\n",
              "      background-color: #434B5C;\n",
              "      box-shadow: 0px 1px 3px 1px rgba(0, 0, 0, 0.15);\n",
              "      filter: drop-shadow(0px 1px 2px rgba(0, 0, 0, 0.3));\n",
              "      fill: #FFFFFF;\n",
              "    }\n",
              "  </style>\n",
              "\n",
              "      <script>\n",
              "        const buttonEl =\n",
              "          document.querySelector('#df-d27a9bd4-12b6-43c4-98d0-f632f82f8cb5 button.colab-df-convert');\n",
              "        buttonEl.style.display =\n",
              "          google.colab.kernel.accessAllowed ? 'block' : 'none';\n",
              "\n",
              "        async function convertToInteractive(key) {\n",
              "          const element = document.querySelector('#df-d27a9bd4-12b6-43c4-98d0-f632f82f8cb5');\n",
              "          const dataTable =\n",
              "            await google.colab.kernel.invokeFunction('convertToInteractive',\n",
              "                                                     [key], {});\n",
              "          if (!dataTable) return;\n",
              "\n",
              "          const docLinkHtml = 'Like what you see? Visit the ' +\n",
              "            '<a target=\"_blank\" href=https://colab.research.google.com/notebooks/data_table.ipynb>data table notebook</a>'\n",
              "            + ' to learn more about interactive tables.';\n",
              "          element.innerHTML = '';\n",
              "          dataTable['output_type'] = 'display_data';\n",
              "          await google.colab.output.renderOutput(dataTable, element);\n",
              "          const docLink = document.createElement('div');\n",
              "          docLink.innerHTML = docLinkHtml;\n",
              "          element.appendChild(docLink);\n",
              "        }\n",
              "      </script>\n",
              "    </div>\n",
              "  </div>\n",
              "  "
            ],
            "text/plain": [
              "                                        Job_Description  Title\n",
              "1995  [general, descriptionresponsible, ensuring, pr...    NaN\n",
              "1996  [job, id, 94448nonexempt, oldcastle, precast, ...    NaN\n",
              "1997  [general, descriptionis, responsible, phases, ...    NaN\n",
              "1998  [report, job, job, skilled, nursing, facility,...    NaN\n",
              "1999  [job, id, 99428, georgia, masonry, supply, div...    NaN"
            ]
          },
          "metadata": {},
          "execution_count": 8
        }
      ]
    },
    {
      "cell_type": "code",
      "source": [
        "# Percentage of Job Description with text\n",
        "total = df1['Job_Description'].notnull().sum()\n",
        "round((total/len(df)*100),1)"
      ],
      "metadata": {
        "colab": {
          "base_uri": "https://localhost:8080/"
        },
        "id": "_r6i_E5qmIbw",
        "outputId": "735d2c01-9b49-4a59-cf0c-316ec2897671"
      },
      "execution_count": 9,
      "outputs": [
        {
          "output_type": "execute_result",
          "data": {
            "text/plain": [
              "100.0"
            ]
          },
          "metadata": {},
          "execution_count": 9
        }
      ]
    },
    {
      "cell_type": "code",
      "source": [
        "pd.DataFrame(df.Title.unique()).values"
      ],
      "metadata": {
        "colab": {
          "base_uri": "https://localhost:8080/"
        },
        "id": "DoBCCKFkmlcy",
        "outputId": "584d6d36-0177-4b3e-f59d-511de2b4c1d5"
      },
      "execution_count": 10,
      "outputs": [
        {
          "output_type": "execute_result",
          "data": {
            "text/plain": [
              "array([[nan]])"
            ]
          },
          "metadata": {},
          "execution_count": 10
        }
      ]
    },
    {
      "cell_type": "code",
      "source": [
        "len(df.Title.unique())"
      ],
      "metadata": {
        "colab": {
          "base_uri": "https://localhost:8080/"
        },
        "id": "XxfYWU4anBEE",
        "outputId": "368d5a8a-3cc4-4675-f2aa-a53a6daed17a"
      },
      "execution_count": 11,
      "outputs": [
        {
          "output_type": "execute_result",
          "data": {
            "text/plain": [
              "1"
            ]
          },
          "metadata": {},
          "execution_count": 11
        }
      ]
    },
    {
      "cell_type": "code",
      "source": [
        "df2 = df1.sample(10000, random_state=1).copy()"
      ],
      "metadata": {
        "colab": {
          "base_uri": "https://localhost:8080/",
          "height": 339
        },
        "id": "UVjXMM2enVV_",
        "outputId": "abe6045e-edd0-4239-8f68-d70fb54e78a5"
      },
      "execution_count": 12,
      "outputs": [
        {
          "output_type": "error",
          "ename": "ValueError",
          "evalue": "ignored",
          "traceback": [
            "\u001b[0;31m---------------------------------------------------------------------------\u001b[0m",
            "\u001b[0;31mValueError\u001b[0m                                Traceback (most recent call last)",
            "\u001b[0;32m<ipython-input-12-fa5fc012321f>\u001b[0m in \u001b[0;36m<module>\u001b[0;34m()\u001b[0m\n\u001b[0;32m----> 1\u001b[0;31m \u001b[0mdf2\u001b[0m \u001b[0;34m=\u001b[0m \u001b[0mdf1\u001b[0m\u001b[0;34m.\u001b[0m\u001b[0msample\u001b[0m\u001b[0;34m(\u001b[0m\u001b[0;36m10000\u001b[0m\u001b[0;34m,\u001b[0m \u001b[0mrandom_state\u001b[0m\u001b[0;34m=\u001b[0m\u001b[0;36m1\u001b[0m\u001b[0;34m)\u001b[0m\u001b[0;34m.\u001b[0m\u001b[0mcopy\u001b[0m\u001b[0;34m(\u001b[0m\u001b[0;34m)\u001b[0m\u001b[0;34m\u001b[0m\u001b[0;34m\u001b[0m\u001b[0m\n\u001b[0m",
            "\u001b[0;32m/usr/local/lib/python3.7/dist-packages/pandas/core/generic.py\u001b[0m in \u001b[0;36msample\u001b[0;34m(self, n, frac, replace, weights, random_state, axis)\u001b[0m\n\u001b[1;32m   4993\u001b[0m             )\n\u001b[1;32m   4994\u001b[0m \u001b[0;34m\u001b[0m\u001b[0m\n\u001b[0;32m-> 4995\u001b[0;31m         \u001b[0mlocs\u001b[0m \u001b[0;34m=\u001b[0m \u001b[0mrs\u001b[0m\u001b[0;34m.\u001b[0m\u001b[0mchoice\u001b[0m\u001b[0;34m(\u001b[0m\u001b[0maxis_length\u001b[0m\u001b[0;34m,\u001b[0m \u001b[0msize\u001b[0m\u001b[0;34m=\u001b[0m\u001b[0mn\u001b[0m\u001b[0;34m,\u001b[0m \u001b[0mreplace\u001b[0m\u001b[0;34m=\u001b[0m\u001b[0mreplace\u001b[0m\u001b[0;34m,\u001b[0m \u001b[0mp\u001b[0m\u001b[0;34m=\u001b[0m\u001b[0mweights\u001b[0m\u001b[0;34m)\u001b[0m\u001b[0;34m\u001b[0m\u001b[0;34m\u001b[0m\u001b[0m\n\u001b[0m\u001b[1;32m   4996\u001b[0m         \u001b[0;32mreturn\u001b[0m \u001b[0mself\u001b[0m\u001b[0;34m.\u001b[0m\u001b[0mtake\u001b[0m\u001b[0;34m(\u001b[0m\u001b[0mlocs\u001b[0m\u001b[0;34m,\u001b[0m \u001b[0maxis\u001b[0m\u001b[0;34m=\u001b[0m\u001b[0maxis\u001b[0m\u001b[0;34m)\u001b[0m\u001b[0;34m\u001b[0m\u001b[0;34m\u001b[0m\u001b[0m\n\u001b[1;32m   4997\u001b[0m \u001b[0;34m\u001b[0m\u001b[0m\n",
            "\u001b[0;32mmtrand.pyx\u001b[0m in \u001b[0;36mnumpy.random.mtrand.RandomState.choice\u001b[0;34m()\u001b[0m\n",
            "\u001b[0;31mValueError\u001b[0m: Cannot take a larger sample than population when 'replace=False'"
          ]
        }
      ]
    },
    {
      "cell_type": "code",
      "source": [
        "# Create a new column 'category_id' with encoded categories \n",
        "df2['category_id'] = df2['Title'].factorize()[0]\n",
        "category_id_df = df2[['Title', 'category_id']].drop_duplicates()\n",
        "\n",
        "\n",
        "# Dictionaries for future use\n",
        "category_to_id = dict(category_id_df.values)\n",
        "id_to_category = dict(category_id_df[['category_id', 'Title']].values)\n",
        "\n",
        "# New dataframe\n",
        "df2.head()"
      ],
      "metadata": {
        "id": "8OHSUuSNnYli"
      },
      "execution_count": null,
      "outputs": []
    },
    {
      "cell_type": "code",
      "source": [
        "df2.tail()"
      ],
      "metadata": {
        "id": "B0M9BWA3nzOW"
      },
      "execution_count": null,
      "outputs": []
    },
    {
      "cell_type": "code",
      "source": [
        "tfidf = TfidfVectorizer(sublinear_tf=True, min_df=5,\n",
        "                        ngram_range=(1, 2), \n",
        "                        stop_words='english')\n",
        "\n",
        "# We transform each Job Description into a vector\n",
        "features = tfidf.fit_transform(df2.Job_Description).toarray()\n",
        "\n",
        "labels = df2.category_id\n",
        "\n",
        "print(\"Each of the %d job descriptions is represented by %d features (TF-IDF score of unigrams and bigrams)\" %(features.shape))"
      ],
      "metadata": {
        "id": "RD0oQRoHqeb1"
      },
      "execution_count": null,
      "outputs": []
    },
    {
      "cell_type": "code",
      "source": [
        "X = df2['Job_Description'][:1000] # Collection of Job descriptions\n",
        "y = df2['Title'][:1000] # Target or the labels we want to predict\n",
        "\n",
        "X_train, X_test, y_train, y_test = train_test_split(X, y, \n",
        "                                                    test_size=0.25,\n",
        "                                                    random_state = 0)"
      ],
      "metadata": {
        "id": "0cikKjotsrqA"
      },
      "execution_count": null,
      "outputs": []
    },
    {
      "cell_type": "code",
      "source": [
        "models = [\n",
        "    RandomForestClassifier(n_estimators=50, max_depth=5, random_state=0),\n",
        "    LinearSVC(),\n",
        "    MultinomialNB(),\n",
        "    LogisticRegression(random_state=0),\n",
        "]\n",
        "\n",
        "# 5 Cross-validation\n",
        "CV = 5\n",
        "cv_df = pd.DataFrame(index=range(CV * len(models)))\n",
        "\n",
        "entries = []\n",
        "for model in models:\n",
        "  model_name = model.__class__.__name__\n",
        "  accuracies = cross_val_score(model, features, labels, scoring='accuracy', cv=CV)\n",
        "  for fold_idx, accuracy in enumerate(accuracies):\n",
        "    entries.append((model_name, fold_idx, accuracy))\n",
        "    \n",
        "cv_df = pd.DataFrame(entries, columns=['model_name', 'fold_idx', 'accuracy'])"
      ],
      "metadata": {
        "id": "SZsZxWg4teXS"
      },
      "execution_count": null,
      "outputs": []
    }
  ]
}